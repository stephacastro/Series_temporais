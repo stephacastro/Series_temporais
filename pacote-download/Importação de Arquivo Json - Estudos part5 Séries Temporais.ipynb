{
 "cells": [
  {
   "cell_type": "markdown",
   "metadata": {},
   "source": [
    "# Importação de Arquivo Json - Estudos part5 Séries Temporais"
   ]
  },
  {
   "cell_type": "code",
   "execution_count": 2,
   "metadata": {},
   "outputs": [],
   "source": [
    "import pandas as pd\n",
    "import json"
   ]
  },
  {
   "cell_type": "code",
   "execution_count": 5,
   "metadata": {},
   "outputs": [
    {
     "name": "stdout",
     "output_type": "stream",
     "text": [
      "[{'Description': '', 'Image': '/wiki/File:MuryeongsTomb.jpg', 'Criteria': 'Cultural: (ii)(iii)', 'Site': 'Baekje Historic Areas', 'Area ha (acre)': '135 (330)', 'Location': 'South Chungcheong, North Jeolla', 'Year': '2015'}, {'Description': '', 'Image': '/wiki/File:Korea-Gwangju-Gochang_Dolmens_5350-06.JPG', 'Criteria': 'Cultural: (iii)', 'Site': 'Gochang, Hwasun and Ganghwa Dolmen Sites', 'Area ha (acre)': '', 'Location': 'Incheon, North Jeolla, South Jeolla', 'Year': '2000'}, {'Description': '', 'Image': '/wiki/File:Juhamnu,_Changdeokgung_-_Seoul,_Korea.JPG', 'Criteria': 'Cultural: (ii)(iii)(iv)', 'Site': 'Changdeokgung Palace Complex', 'Area ha (acre)': '', 'Location': 'Seoul', 'Year': '1997'}, {'Description': '', 'Image': '/wiki/File:Korea-Gyeongju-Bunhwangsa-Lanterns-03.jpg', 'Criteria': 'Cultural: (ii)(iii)', 'Site': 'Gyeongju Historic Areas', 'Area ha (acre)': '2,880 (7,100)', 'Location': 'North Gyeongsang', 'Year': '2000'}, {'Description': '', 'Image': '/wiki/File:Haeinsa_Temple_(6222053899).jpg', 'Criteria': 'Cultural: (iv)(vi)', 'Site': 'Haeinsa Temple Janggyeong Panjeon, the Depositories for the Tripitaka Koreana Woodblocks', 'Area ha (acre)': '', 'Location': 'South Gyeongsang', 'Year': '1995'}, {'Description': '', 'Image': '/wiki/File:Hahoe_8784.jpg', 'Criteria': 'Cultural: (iii)(iv)', 'Site': 'Historic Villages of Korea: Hahoe and Yangdong', 'Area ha (acre)': '600 (1,500)', 'Location': 'North Gyeongsang', 'Year': '2010'}, {'Description': '', 'Image': '/wiki/File:Hwaseong2.jpg', 'Criteria': 'Cultural: (ii)(iii)', 'Site': 'Hwaseong Fortress', 'Area ha (acre)': '', 'Location': 'Gyeonggi', 'Year': '1997'}, {'Description': '', 'Image': '/wiki/File:KOCIS_Halla_Mountain_in_Jeju-do_(6387785543).jpg', 'Criteria': 'Natural: (vii)(viii)', 'Site': 'Jeju Volcanic Island and Lava Tubes', 'Area ha (acre)': '9,475 (23,410)', 'Location': 'Jeju', 'Year': '2007'}, {'Description': '', 'Image': '/wiki/File:Chongmyo_repository_(1509268349).jpg', 'Criteria': 'Cultural: (iv)', 'Site': 'Jongmyo Shrine', 'Area ha (acre)': '19 (47)', 'Location': 'Seoul', 'Year': '1995'}, {'Description': '', 'Image': '/wiki/File:Khitai5.jpg', 'Criteria': 'Cultural: (ii)(iv)', 'Site': 'Namhansanseong', 'Area ha (acre)': '409 (1,010)', 'Location': 'Gyeonggi', 'Year': '2014'}, {'Description': '', 'Image': '/wiki/File:Sejong_tomb_1.jpg', 'Criteria': 'Cultural: (iii)(iv)(vi)', 'Site': 'Royal Tombs of the Joseon Dynasty', 'Area ha (acre)': '1,891 (4,670)', 'Location': 'Gyeonggi, Seoul', 'Year': '2009'}, {'Description': '', 'Image': '/wiki/File:Bulguk_Tempel.jpg', 'Criteria': 'Cultural: (i)(iv)', 'Site': 'Seokguram Grotto and Bulguksa Temple', 'Area ha (acre)': '', 'Location': 'North Gyeongsang', 'Year': '1995'}]\n"
     ]
    }
   ],
   "source": [
    "file = 'skorea.json'\n",
    "with open(file) as j:\n",
    "    json = json.load(j)\n",
    "print(json)"
   ]
  },
  {
   "cell_type": "code",
   "execution_count": 6,
   "metadata": {},
   "outputs": [],
   "source": [
    "df = pd.DataFrame(json)"
   ]
  },
  {
   "cell_type": "code",
   "execution_count": 7,
   "metadata": {},
   "outputs": [
    {
     "data": {
      "text/html": [
       "<div>\n",
       "<style scoped>\n",
       "    .dataframe tbody tr th:only-of-type {\n",
       "        vertical-align: middle;\n",
       "    }\n",
       "\n",
       "    .dataframe tbody tr th {\n",
       "        vertical-align: top;\n",
       "    }\n",
       "\n",
       "    .dataframe thead th {\n",
       "        text-align: right;\n",
       "    }\n",
       "</style>\n",
       "<table border=\"1\" class=\"dataframe\">\n",
       "  <thead>\n",
       "    <tr style=\"text-align: right;\">\n",
       "      <th></th>\n",
       "      <th>Description</th>\n",
       "      <th>Image</th>\n",
       "      <th>Criteria</th>\n",
       "      <th>Site</th>\n",
       "      <th>Area ha (acre)</th>\n",
       "      <th>Location</th>\n",
       "      <th>Year</th>\n",
       "    </tr>\n",
       "  </thead>\n",
       "  <tbody>\n",
       "    <tr>\n",
       "      <th>0</th>\n",
       "      <td></td>\n",
       "      <td>/wiki/File:MuryeongsTomb.jpg</td>\n",
       "      <td>Cultural: (ii)(iii)</td>\n",
       "      <td>Baekje Historic Areas</td>\n",
       "      <td>135 (330)</td>\n",
       "      <td>South Chungcheong, North Jeolla</td>\n",
       "      <td>2015</td>\n",
       "    </tr>\n",
       "    <tr>\n",
       "      <th>1</th>\n",
       "      <td></td>\n",
       "      <td>/wiki/File:Korea-Gwangju-Gochang_Dolmens_5350-...</td>\n",
       "      <td>Cultural: (iii)</td>\n",
       "      <td>Gochang, Hwasun and Ganghwa Dolmen Sites</td>\n",
       "      <td></td>\n",
       "      <td>Incheon, North Jeolla, South Jeolla</td>\n",
       "      <td>2000</td>\n",
       "    </tr>\n",
       "    <tr>\n",
       "      <th>2</th>\n",
       "      <td></td>\n",
       "      <td>/wiki/File:Juhamnu,_Changdeokgung_-_Seoul,_Kor...</td>\n",
       "      <td>Cultural: (ii)(iii)(iv)</td>\n",
       "      <td>Changdeokgung Palace Complex</td>\n",
       "      <td></td>\n",
       "      <td>Seoul</td>\n",
       "      <td>1997</td>\n",
       "    </tr>\n",
       "    <tr>\n",
       "      <th>3</th>\n",
       "      <td></td>\n",
       "      <td>/wiki/File:Korea-Gyeongju-Bunhwangsa-Lanterns-...</td>\n",
       "      <td>Cultural: (ii)(iii)</td>\n",
       "      <td>Gyeongju Historic Areas</td>\n",
       "      <td>2,880 (7,100)</td>\n",
       "      <td>North Gyeongsang</td>\n",
       "      <td>2000</td>\n",
       "    </tr>\n",
       "    <tr>\n",
       "      <th>4</th>\n",
       "      <td></td>\n",
       "      <td>/wiki/File:Haeinsa_Temple_(6222053899).jpg</td>\n",
       "      <td>Cultural: (iv)(vi)</td>\n",
       "      <td>Haeinsa Temple Janggyeong Panjeon, the Deposit...</td>\n",
       "      <td></td>\n",
       "      <td>South Gyeongsang</td>\n",
       "      <td>1995</td>\n",
       "    </tr>\n",
       "  </tbody>\n",
       "</table>\n",
       "</div>"
      ],
      "text/plain": [
       "  Description                                              Image  \\\n",
       "0                                   /wiki/File:MuryeongsTomb.jpg   \n",
       "1              /wiki/File:Korea-Gwangju-Gochang_Dolmens_5350-...   \n",
       "2              /wiki/File:Juhamnu,_Changdeokgung_-_Seoul,_Kor...   \n",
       "3              /wiki/File:Korea-Gyeongju-Bunhwangsa-Lanterns-...   \n",
       "4                     /wiki/File:Haeinsa_Temple_(6222053899).jpg   \n",
       "\n",
       "                  Criteria                                               Site  \\\n",
       "0      Cultural: (ii)(iii)                              Baekje Historic Areas   \n",
       "1          Cultural: (iii)           Gochang, Hwasun and Ganghwa Dolmen Sites   \n",
       "2  Cultural: (ii)(iii)(iv)                       Changdeokgung Palace Complex   \n",
       "3      Cultural: (ii)(iii)                            Gyeongju Historic Areas   \n",
       "4       Cultural: (iv)(vi)  Haeinsa Temple Janggyeong Panjeon, the Deposit...   \n",
       "\n",
       "  Area ha (acre)                             Location  Year  \n",
       "0      135 (330)      South Chungcheong, North Jeolla  2015  \n",
       "1                 Incheon, North Jeolla, South Jeolla  2000  \n",
       "2                                               Seoul  1997  \n",
       "3  2,880 (7,100)                     North Gyeongsang  2000  \n",
       "4                                    South Gyeongsang  1995  "
      ]
     },
     "execution_count": 7,
     "metadata": {},
     "output_type": "execute_result"
    }
   ],
   "source": [
    "df.head()"
   ]
  }
 ],
 "metadata": {
  "kernelspec": {
   "display_name": "estudos_dados",
   "language": "python",
   "name": "estudos_dados"
  },
  "language_info": {
   "codemirror_mode": {
    "name": "ipython",
    "version": 3
   },
   "file_extension": ".py",
   "mimetype": "text/x-python",
   "name": "python",
   "nbconvert_exporter": "python",
   "pygments_lexer": "ipython3",
   "version": "3.7.6"
  }
 },
 "nbformat": 4,
 "nbformat_minor": 4
}
